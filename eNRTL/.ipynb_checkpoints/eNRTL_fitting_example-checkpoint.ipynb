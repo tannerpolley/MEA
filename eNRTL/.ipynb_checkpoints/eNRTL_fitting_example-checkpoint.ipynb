{
 "cells": [
  {
   "metadata": {},
   "cell_type": "markdown",
   "source": [
    "# Parameter Estimation Using a customized fitting routine\n",
    "\n",
    "Author: Tanner Polley   \n",
    "Created: 2024-09-06  \n",
    "\n",
    "In this module, we use Pyomo to build a customized fitting tool in conjunction with IDAES models for parameter estimation. We demonstrate these tools by estimating the parameters associated with the eNRTL property model for the aqueous amine mixture with MEA as the amine. The eNRTL model has many sets of parameters that can be chosen to fit depending on which interactions are chosen as significant or worthwhile: the non-randomness parameter (`alpha_ij`) and the binary interaction parameter (`tau_ij`), where `i` and `j` are the pure component species or a cation-anion pair (MEAH+, MEACOO-). In this example, we only estimate the binary interaction parameters (`tau_ij`) for H2O and two cation-anion pairs. The molecule-molecule interaction parameters are assumed to be fitted previously with just the normal NRTL parameters. When estimating parameters associated with the property package, IDAES provides the flexibility of doing the parameter estimation by just using the state block or by using a unit model with a specified property package. This module will demonstrate parameter estimation by using only the state block. This module currently can intake datasets that contain either VLE data (partial pressure of CO2 with CO2 loading, temperature, amine weight as inputs) or speciation data (true mole fractions with CO2 loading, temperature, amine weight as inputs). The module has functionality for heat of absorption data but currently is not fully functional due to calculation or formulation error. Each dataset should be setup in a specific way (column names, and format) for this module. This module will also can produce a neatly organized table of fitted parameters saved as a png file as well as produce a plot to demonstrate the fit. There are many configuration options available as well as the ability to customize the analysis further. This module is currently setup to handle reaction parameters and the eNRTL parameters but could be modified to add other relevant parameters such as for physical properties such as heat capacity or viscosity. \n",
    "\n",
    "We will complete the following tasks:\n",
    "* Import relevant packages, files, and functions\n",
    "* Set up the initial dictionaries to specify what parameters to fit, how to showcase the fit, and solving options\n",
    "* Create the Pyomo model and initialize the parameters\n",
    "* Load the chosen datasets as parameter blocks and initialize each block\n",
    "* Setup objective and solve model\n",
    "* Perform Uncertainty Analysis on fitted parameters\n",
    "* Create fitted parameter table\n",
    "* Display fitted plot"
   ],
   "id": "f7757dd00e3dc2e0"
  },
  {
   "metadata": {},
   "cell_type": "markdown",
   "source": "### Import Python, Pyomo, and IDAES related packages",
   "id": "c3526fc8a446f76f"
  },
  {
   "metadata": {},
   "cell_type": "code",
   "outputs": [],
   "execution_count": null,
   "source": [
    "import logging\n",
    "import pyomo.environ as pyo\n",
    "\n",
    "import idaes.logger as idaeslog\n",
    "from idaes.core.util.model_statistics import degrees_of_freedom\n",
    "from idaes.core.solvers import get_solver\n",
    "import idaes.core.util.scaling as iscale\n",
    "from idaes.models_extra.column_models.properties import ModularPropertiesInherentReactionsInitializer\n",
    "from idaes.models.properties.modular_properties.base.generic_property import GenericParameterBlock"
   ],
   "id": "4f5013ce7421284c"
  },
  {
   "metadata": {},
   "cell_type": "markdown",
   "source": "### Import supporting functions that are a part of the module",
   "id": "86e5d2ac934e172a"
  },
  {
   "metadata": {},
   "cell_type": "code",
   "outputs": [],
   "execution_count": null,
   "source": [
    "from Create_Param_Pic import create_param_pic\n",
    "from Uncertainty_Analysis import uncertainty_analysis\n",
    "from Parameter_Setup import get_estimated_params, setup_param_scaling\n",
    "from eNRTL_property_setup import get_prop_dict\n",
    "from Load_Datasets import load_datasets\n",
    "from Plot_Fit import plot_fit"
   ],
   "id": "676642cf784cce56"
  },
  {
   "metadata": {},
   "cell_type": "markdown",
   "source": "### Setup initial dictionaries to choose which parameters to fit, how to plot the fit, specify dataset column names, and setup solver options",
   "id": "e2c5583e346d9ab2"
  },
  {
   "metadata": {
    "ExecuteTime": {
     "end_time": "2024-09-06T19:58:33.721833Z",
     "start_time": "2024-09-06T19:58:33.715827Z"
    }
   },
   "cell_type": "code",
   "source": [
    "# Dictionary of various options for the solver\n",
    "optarg = {\n",
    "    # 'bound_push' : 1e-22,\n",
    "    'nlp_scaling_method': 'user-scaling',\n",
    "    'linear_solver': 'ma57',\n",
    "    'OF_ma57_automatic_scaling': 'yes',\n",
    "    'max_iter': 300,\n",
    "    'tol': 1e-8,\n",
    "    'constr_viol_tol': 1e-8,\n",
    "    'halt_on_ampl_error': 'no',\n",
    "    # 'mu_strategy': 'monotone',\n",
    "}\n",
    "\n",
    "# Dictionary of possible parameters that can be included in the fit\n",
    "# Either comment out or remove comment to modify\n",
    "# Can specify which molecules, cations, anions, parameters, or interactions that are wanted\n",
    "# The interactions can include only symmetrical or unsymmetrical interactions\n",
    "param_dic = {'rxn_coeffs': [\n",
    "    '1',\n",
    "    '2',\n",
    "    '3',\n",
    "    '4',\n",
    "], 'molecules': [\n",
    "    'H2O',\n",
    "    # 'MEA',\n",
    "    # 'CO2',\n",
    "], 'cations': [\n",
    "    'MEAH^+',\n",
    "], 'anions': [\n",
    "    'MEACOO^-',\n",
    "    'HCO3^-',\n",
    "], 'parameters': [\n",
    "    'tau_A',\n",
    "    'tau_B',\n",
    "    # 'tau_alpha',\n",
    "], 'interactions': [\n",
    "    # 'm-ca',\n",
    "    # 'ca-m',\n",
    "    # 'm1-m2',\n",
    "    # 'm2-m1',\n",
    "    # \"ca1-ca2\",\n",
    "    # \"ca2-ca1\",\n",
    "],\n",
    "}\n",
    "\n",
    "# Dictionary of the chosen molecules or ions that are present in the chosen system\n",
    "# These should match the molecules found in the eNRTL_property_setup.py file since each\n",
    "# specie would need their parameters specified\n",
    "species_dic = {\n",
    "    'components': ['H2O', 'MEA', 'CO2'],\n",
    "    'ions': ['MEAH^+', 'MEACOO^-', 'HCO3^-'],\n",
    "}\n",
    "\n",
    "# Dictionary to configure how to produce the fitted plot\n",
    "# Specify at which temperature to produce each VLE plot, the default pressure of the system, weight percent of the amine\n",
    "# or any loading constraints that you want to include for the fitted plot (compare fit -> data within the loading range incase\n",
    "# there exists inconsistencies with data at low or high ranges\n",
    "system_fit_dic = {\n",
    "              'temperature': [40.0, 60.0, 80.0, 100.0, 120.0],\n",
    "              'pressure': 200000,\n",
    "              'amine_weight_percent': .3,\n",
    "              'loading_constraints': [.1, .6],\n",
    "              }\n",
    "\n",
    "# Dictionary that specifies the names of the variables found in the csv file datasets\n",
    "column_names = {\n",
    "    'temperature': 'temperature',\n",
    "    'loading': 'CO2_loading',\n",
    "    'amine_concentration': 'MEA_weight_fraction',\n",
    "    'pressure': 'total_pressure',\n",
    "    'CO2_pressure': 'CO2_pressure',\n",
    "    'heat_of_absorption': 'dH_abs'\n",
    "}\n",
    "\n",
    "# Boolean variable to determine whether a parameter table picture is created\n",
    "create_param_table = True"
   ],
   "id": "62242bc853fa7df8",
   "outputs": [],
   "execution_count": 2
  },
  {
   "metadata": {},
   "cell_type": "markdown",
   "source": "### Create the Pyomo model and initialize the parameters",
   "id": "29372be5ee1b8eef"
  },
  {
   "metadata": {},
   "cell_type": "code",
   "outputs": [],
   "execution_count": null,
   "source": [
    "logging.getLogger('pyomo.repn.plugins.nl_writer').setLevel(logging.ERROR) # Setup Logger\n",
    "init_outlevel = idaeslog.WARNING # Determine which logging setting to use\n",
    "m = pyo.ConcreteModel() # Creates pyomo model\n",
    "config = get_prop_dict(species_dic['components']) # gets the parameter configuration dictionary from the eNRTL property file\n",
    "params = m.params = GenericParameterBlock(**config) # setups the generic parameter block for all species and mixture properties\n",
    "setup_param_scaling(m) # runs a scaling routine for all the parameters"
   ],
   "id": "333d4b5934e089a7"
  },
  {
   "metadata": {},
   "cell_type": "markdown",
   "source": [
    "### Load the chosen datasets as parameter blocks and initialize each block\n",
    "\n"
   ],
   "id": "1fbea57d618af83"
  },
  {
   "metadata": {},
   "cell_type": "markdown",
   "source": "![Dataset Format Example](https://ibb.co/ZKCLxZh)",
   "id": "45ceb6e8597da07f"
  },
  {
   "metadata": {},
   "cell_type": "code",
   "outputs": [],
   "execution_count": null,
   "source": [
    "\n",
    "\n",
    "# Initializes objective expression\n",
    "obj_expr = 0\n",
    "\n",
    "# the chosen directory/folder that contains each dataset in csv file format\n",
    "# the format should have all values for each respective column ideally sorted from smallest to largest\n",
    "# with the amine concentration and temperatures acting as indexes \n",
    "dataset_dir = r\"data\\data_sets_to_load\"\n",
    "obj_expr, dfs, param_block_names = load_datasets(m, obj_expr, dataset_dir, species_dic, column_names, exclude_list=['Xu', 'Jakobsen'])"
   ],
   "id": "a3130fc28952092c"
  },
  {
   "metadata": {},
   "cell_type": "markdown",
   "source": "### Setup objective and solve model",
   "id": "6eed5927a2751ba"
  },
  {
   "metadata": {},
   "cell_type": "code",
   "outputs": [],
   "execution_count": null,
   "source": "",
   "id": "9348752a0e080dcf"
  },
  {
   "metadata": {},
   "cell_type": "markdown",
   "source": "### Perform Uncertainty Analysis on fitted parameters",
   "id": "fc464cb0a7b3d7af"
  },
  {
   "metadata": {},
   "cell_type": "code",
   "outputs": [],
   "execution_count": null,
   "source": "",
   "id": "bea2d4df5d39107"
  },
  {
   "metadata": {},
   "cell_type": "markdown",
   "source": "### Create fitted parameter table",
   "id": "71344ef2a1200b2f"
  },
  {
   "metadata": {},
   "cell_type": "code",
   "outputs": [],
   "execution_count": null,
   "source": "",
   "id": "4955e6272e6d8933"
  },
  {
   "metadata": {},
   "cell_type": "markdown",
   "source": "### Display fitted plot",
   "id": "d4043158ce275169"
  },
  {
   "metadata": {},
   "cell_type": "code",
   "outputs": [],
   "execution_count": null,
   "source": "",
   "id": "25986d284bd659ed"
  }
 ],
 "metadata": {
  "kernelspec": {
   "display_name": "Python 3",
   "language": "python",
   "name": "python3"
  },
  "language_info": {
   "codemirror_mode": {
    "name": "ipython",
    "version": 2
   },
   "file_extension": ".py",
   "mimetype": "text/x-python",
   "name": "python",
   "nbconvert_exporter": "python",
   "pygments_lexer": "ipython2",
   "version": "2.7.6"
  }
 },
 "nbformat": 4,
 "nbformat_minor": 5
}
