{
 "cells": [
  {
   "cell_type": "code",
   "id": "initial_id",
   "metadata": {
    "collapsed": true,
    "ExecuteTime": {
     "end_time": "2024-07-04T00:28:19.167902Z",
     "start_time": "2024-07-04T00:28:17.775767Z"
    }
   },
   "source": [
    "from PC_SAFT import flash, BPT_gekko\n",
    "from Solve_ChemEQ import solve_ChemEQ_gekko\n",
    "import numpy as np\n",
    "import pandas as pd\n",
    "import matplotlib.pyplot as plt\n",
    "from scipy.interpolate import interp1d"
   ],
   "outputs": [],
   "execution_count": 1
  },
  {
   "metadata": {
    "ExecuteTime": {
     "end_time": "2024-07-08T21:27:49.708845Z",
     "start_time": "2024-07-08T21:27:49.705319Z"
    }
   },
   "cell_type": "code",
   "source": [
    "def get_x(CO2_loading, w_MEA):\n",
    "    MW_MEA = 61.084\n",
    "    MW_H2O = 18.02\n",
    "    \n",
    "    x_MEA_unloaded = w_MEA / (MW_MEA / MW_H2O + w_MEA * (1 - MW_MEA / MW_H2O))\n",
    "    x_H2O_unloaded = 1 - x_MEA_unloaded\n",
    "    \n",
    "    n_MEA = 100 * x_MEA_unloaded\n",
    "    n_H2O = 100 * x_H2O_unloaded\n",
    "\n",
    "    n_CO2 = n_MEA * CO2_loading\n",
    "    n_tot = n_MEA + n_H2O + n_CO2\n",
    "    x_CO2, x_MEA, x_H2O = n_CO2/n_tot, n_MEA/n_tot, n_H2O/n_tot\n",
    "    \n",
    "    return x_CO2, x_MEA, x_H2O\n",
    "\n",
    "print(get_x(.3, .3))"
   ],
   "id": "94505b0ba2c7b6b2",
   "outputs": [
    {
     "name": "stdout",
     "output_type": "stream",
     "text": [
      "(0.03257503022901745, 0.10858343409672482, 0.8588415356742577)\n"
     ]
    }
   ],
   "execution_count": 4
  },
  {
   "metadata": {
    "ExecuteTime": {
     "end_time": "2024-07-08T21:27:51.232257Z",
     "start_time": "2024-07-08T21:27:51.228751Z"
    }
   },
   "cell_type": "code",
   "source": [
    "def get_x(CO2_loading, w_MEA):\n",
    "\n",
    "    MW_MEA = 61.08 / 1000\n",
    "    MW_H2O = 18.02 / 1000\n",
    "\n",
    "    x_MEA = (1 + CO2_loading + (MW_MEA / MW_H2O) * (1 - w_MEA) / w_MEA) ** -1\n",
    "    x_CO2 = x_MEA*CO2_loading\n",
    "    x_H2O = 1 - x_CO2 - x_MEA\n",
    "\n",
    "    return x_CO2, x_MEA, x_H2O\n",
    "\n",
    "print(get_x(.3, .3))"
   ],
   "id": "7ffec38f01b9f1af",
   "outputs": [
    {
     "name": "stdout",
     "output_type": "stream",
     "text": [
      "(0.03257686235281356, 0.10858954117604522, 0.8588335964711412)\n"
     ]
    }
   ],
   "execution_count": 5
  },
  {
   "metadata": {
    "ExecuteTime": {
     "end_time": "2024-07-04T00:28:19.403781Z",
     "start_time": "2024-07-04T00:28:19.398728Z"
    }
   },
   "cell_type": "code",
   "source": [
    "def liquid_density(Tl, x, df_param):\n",
    "\n",
    "    x_CO2, x_MEA, x_H2O = x\n",
    "\n",
    "    MWs_l = np.array([44.01, 61.08, 18.02]) / 1000  # kg/mol\n",
    "\n",
    "    MWT_l = sum([x[i] * MWs_l[i] for i in range(len(x))])\n",
    "\n",
    "    a1, b1, c1 = [-5.35162e-7, -4.51417e-4, 1.19451]\n",
    "    a2, b2, c2 = [-3.2484e-6, 0.00165, 0.793]\n",
    "\n",
    "    V_MEA = MWs_l[1]*1000 / (a1 * Tl ** 2 + b1 * Tl + c1)  # mL/mol\n",
    "    V_H2O = MWs_l[2]*1000 / (a2 * Tl ** 2 + b2 * Tl + c2)   # mL/mol\n",
    "\n",
    "    # a, b, c, d, e = df_param['molar_volume'].values()\n",
    "    a, b, c, d, e = 10.57920122, -2.020494157, 3.15067933, 192.0126008, -695.3848617\n",
    "\n",
    "    V_CO2 = a + (b + c * x_MEA) * x_MEA * x_H2O + (d + e * x_MEA) * x_MEA * x_CO2\n",
    "\n",
    "    V_l = V_CO2 * x_CO2 + x_MEA * V_MEA + x_H2O * V_H2O # Liquid Molar Volume (mL/mol)\n",
    "    V_l = V_l*1e-6  # Liquid Molar Volume (mL/mol --> m3/mol)\n",
    "\n",
    "    rho_mol_l = V_l**-1  # Liquid Molar Density (m3/mol --> mol/m3)\n",
    "    rho_mass_l = rho_mol_l*MWT_l  # Liquid Mass Density (mol/m3 --> kg/m3)\n",
    "\n",
    "    return rho_mol_l, rho_mass_l\n"
   ],
   "id": "cab1b11da32bc0b1",
   "outputs": [],
   "execution_count": 3
  },
  {
   "metadata": {
    "ExecuteTime": {
     "end_time": "2024-07-04T00:33:22.666456Z",
     "start_time": "2024-07-04T00:33:22.647987Z"
    }
   },
   "cell_type": "code",
   "source": [
    "df = pd.read_excel(r'C:\\Users\\Tanner\\Documents\\git\\MEA\\data\\Jou_1995_30%.xlsx', sheet_name='T = 0')\n",
    "P_CO2_data, α_data, P_data = df['P_CO2'].to_numpy()*1000, df['alpha'].to_numpy(), df['P'].to_numpy()*1000\n",
    "P_interp = interp1d(α_data, P_data, kind='cubic')"
   ],
   "id": "6cbc37212142a6fd",
   "outputs": [],
   "execution_count": 11
  },
  {
   "metadata": {
    "ExecuteTime": {
     "end_time": "2024-07-04T00:44:00.765116Z",
     "start_time": "2024-07-04T00:42:09.120658Z"
    }
   },
   "cell_type": "code",
   "source": [
    "Tl = 273.15 # K\n",
    "α_range = np.linspace(α_data[0], α_data[-1], 21)\n",
    "P_CO2_range = np.zeros(len(α_range))\n",
    "\n",
    "for i, α in enumerate(α_range):\n",
    "\n",
    "    x = get_x(α, .3)\n",
    "    rho_mol_l, _ = liquid_density(Tl, x, [])\n",
    "    Cl = [x[i] * rho_mol_l for i in range(len(x))]\n",
    "    Cl_true = solve_ChemEQ_gekko(Cl, Tl)\n",
    "    x_true = Cl_true / (sum(Cl_true)).astype('float')\n",
    "    x = x_true[:3]\n",
    "\n",
    "\n",
    "    m = np.array([2.0729, 3.0353, 1.9599])  # Number of segments\n",
    "    σ = np.array([2.7852, 3.0435, 2.362])  # Temperature-Independent segment diameter σ_i (Aᵒ)\n",
    "    ϵ_k = np.array([169.21, 277.174, 279.42]) # Depth of pair potential / Boltzmann constant (K)\n",
    "    k_ij = np.array([[0.0, .16, .065],\n",
    "                     [.16, 0.0, -.18],\n",
    "                     [.065, -.18, 0.0]])\n",
    "    κ_AB = np.array([0, .037470, .2039])\n",
    "    ϵ_AB_k = np.array([0, 2586.3, 2059.28])\n",
    "\n",
    "    yg = [.01, .00001, .98]\n",
    "    Pg = P_interp(α)\n",
    "\n",
    "    y, P = flash(x, yg, Tl, Pg, m, σ, ϵ_k, k_ij, flash_type='Bubble_T', κ_AB=κ_AB, ϵ_AB_k=ϵ_AB_k)\n",
    "\n",
    "    P_CO2_range[i] = y[0]*P\n",
    "\n"
   ],
   "id": "785f4d33431b300a",
   "outputs": [
    {
     "name": "stderr",
     "output_type": "stream",
     "text": [
      "C:\\Users\\Tanner\\Documents\\git\\MEA\\PC_SAFT\\PC_SAFT.py:409: RuntimeWarning: invalid value encountered in log\n",
      "  return np.exp(μ_res / self.kb / T - np.log(Z))\n"
     ]
    },
    {
     "ename": "IndexError",
     "evalue": "list index out of range",
     "output_type": "error",
     "traceback": [
      "\u001B[1;31m---------------------------------------------------------------------------\u001B[0m",
      "\u001B[1;31mIndexError\u001B[0m                                Traceback (most recent call last)",
      "Cell \u001B[1;32mIn[14], line 27\u001B[0m\n\u001B[0;32m     24\u001B[0m yg \u001B[38;5;241m=\u001B[39m [\u001B[38;5;241m.01\u001B[39m, \u001B[38;5;241m.00001\u001B[39m, \u001B[38;5;241m.98\u001B[39m]\n\u001B[0;32m     25\u001B[0m Pg \u001B[38;5;241m=\u001B[39m P_interp(α)\n\u001B[1;32m---> 27\u001B[0m y, P \u001B[38;5;241m=\u001B[39m \u001B[43mflash\u001B[49m\u001B[43m(\u001B[49m\u001B[43mx\u001B[49m\u001B[43m,\u001B[49m\u001B[43m \u001B[49m\u001B[43myg\u001B[49m\u001B[43m,\u001B[49m\u001B[43m \u001B[49m\u001B[43mTl\u001B[49m\u001B[43m,\u001B[49m\u001B[43m \u001B[49m\u001B[43mPg\u001B[49m\u001B[43m,\u001B[49m\u001B[43m \u001B[49m\u001B[43mm\u001B[49m\u001B[43m,\u001B[49m\u001B[43m \u001B[49m\u001B[43mσ\u001B[49m\u001B[43m,\u001B[49m\u001B[43m \u001B[49m\u001B[43mϵ_k\u001B[49m\u001B[43m,\u001B[49m\u001B[43m \u001B[49m\u001B[43mk_ij\u001B[49m\u001B[43m,\u001B[49m\u001B[43m \u001B[49m\u001B[43mflash_type\u001B[49m\u001B[38;5;241;43m=\u001B[39;49m\u001B[38;5;124;43m'\u001B[39;49m\u001B[38;5;124;43mBubble_T\u001B[39;49m\u001B[38;5;124;43m'\u001B[39;49m\u001B[43m,\u001B[49m\u001B[43m \u001B[49m\u001B[43mκ_AB\u001B[49m\u001B[38;5;241;43m=\u001B[39;49m\u001B[43mκ_AB\u001B[49m\u001B[43m,\u001B[49m\u001B[43m \u001B[49m\u001B[43mϵ_AB_k\u001B[49m\u001B[38;5;241;43m=\u001B[39;49m\u001B[43mϵ_AB_k\u001B[49m\u001B[43m)\u001B[49m\n\u001B[0;32m     29\u001B[0m P_CO2_range[i] \u001B[38;5;241m=\u001B[39m y[\u001B[38;5;241m0\u001B[39m]\u001B[38;5;241m*\u001B[39mP\n",
      "File \u001B[1;32m~\\Documents\\git\\MEA\\PC_SAFT\\PC_SAFT.py:457\u001B[0m, in \u001B[0;36mflash\u001B[1;34m(x, y, T, P, m, σ, ε_k, k_ij, flash_type, κ_AB, ε_AB_k)\u001B[0m\n\u001B[0;32m    455\u001B[0m     guesses \u001B[38;5;241m=\u001B[39m []\n\u001B[0;32m    456\u001B[0m options \u001B[38;5;241m=\u001B[39m {\u001B[38;5;124m'\u001B[39m\u001B[38;5;124mxtol\u001B[39m\u001B[38;5;124m'\u001B[39m: \u001B[38;5;241m1e-4\u001B[39m,}\n\u001B[1;32m--> 457\u001B[0m ans \u001B[38;5;241m=\u001B[39m \u001B[43mroot\u001B[49m\u001B[43m(\u001B[49m\u001B[43mf\u001B[49m\u001B[43m,\u001B[49m\u001B[43m \u001B[49m\u001B[43mnp\u001B[49m\u001B[38;5;241;43m.\u001B[39;49m\u001B[43marray\u001B[49m\u001B[43m(\u001B[49m\u001B[43m[\u001B[49m\u001B[43mguesses\u001B[49m\u001B[43m]\u001B[49m\u001B[43m)\u001B[49m\u001B[43m,\u001B[49m\u001B[43m \u001B[49m\u001B[43moptions\u001B[49m\u001B[38;5;241;43m=\u001B[39;49m\u001B[43moptions\u001B[49m\u001B[43m)\u001B[49m\u001B[38;5;241m.\u001B[39mx\n\u001B[0;32m    458\u001B[0m \u001B[38;5;28;01mreturn\u001B[39;00m ans[:\u001B[38;5;241m-\u001B[39m\u001B[38;5;241m1\u001B[39m], ans[\u001B[38;5;241m-\u001B[39m\u001B[38;5;241m1\u001B[39m]\n",
      "File \u001B[1;32m~\\anaconda3\\lib\\site-packages\\scipy\\optimize\\_root.py:234\u001B[0m, in \u001B[0;36mroot\u001B[1;34m(fun, x0, args, method, jac, tol, callback, options)\u001B[0m\n\u001B[0;32m    231\u001B[0m         options\u001B[38;5;241m.\u001B[39msetdefault(\u001B[38;5;124m'\u001B[39m\u001B[38;5;124mfatol\u001B[39m\u001B[38;5;124m'\u001B[39m, np\u001B[38;5;241m.\u001B[39minf)\n\u001B[0;32m    233\u001B[0m \u001B[38;5;28;01mif\u001B[39;00m meth \u001B[38;5;241m==\u001B[39m \u001B[38;5;124m'\u001B[39m\u001B[38;5;124mhybr\u001B[39m\u001B[38;5;124m'\u001B[39m:\n\u001B[1;32m--> 234\u001B[0m     sol \u001B[38;5;241m=\u001B[39m _root_hybr(fun, x0, args\u001B[38;5;241m=\u001B[39margs, jac\u001B[38;5;241m=\u001B[39mjac, \u001B[38;5;241m*\u001B[39m\u001B[38;5;241m*\u001B[39moptions)\n\u001B[0;32m    235\u001B[0m \u001B[38;5;28;01melif\u001B[39;00m meth \u001B[38;5;241m==\u001B[39m \u001B[38;5;124m'\u001B[39m\u001B[38;5;124mlm\u001B[39m\u001B[38;5;124m'\u001B[39m:\n\u001B[0;32m    236\u001B[0m     sol \u001B[38;5;241m=\u001B[39m _root_leastsq(fun, x0, args\u001B[38;5;241m=\u001B[39margs, jac\u001B[38;5;241m=\u001B[39mjac, \u001B[38;5;241m*\u001B[39m\u001B[38;5;241m*\u001B[39moptions)\n",
      "File \u001B[1;32m~\\anaconda3\\lib\\site-packages\\scipy\\optimize\\_minpack_py.py:237\u001B[0m, in \u001B[0;36m_root_hybr\u001B[1;34m(func, x0, args, jac, col_deriv, xtol, maxfev, band, eps, factor, diag, **unknown_options)\u001B[0m\n\u001B[0;32m    235\u001B[0m     \u001B[38;5;28;01mif\u001B[39;00m maxfev \u001B[38;5;241m==\u001B[39m \u001B[38;5;241m0\u001B[39m:\n\u001B[0;32m    236\u001B[0m         maxfev \u001B[38;5;241m=\u001B[39m \u001B[38;5;241m200\u001B[39m \u001B[38;5;241m*\u001B[39m (n \u001B[38;5;241m+\u001B[39m \u001B[38;5;241m1\u001B[39m)\n\u001B[1;32m--> 237\u001B[0m     retval \u001B[38;5;241m=\u001B[39m \u001B[43m_minpack\u001B[49m\u001B[38;5;241;43m.\u001B[39;49m\u001B[43m_hybrd\u001B[49m\u001B[43m(\u001B[49m\u001B[43mfunc\u001B[49m\u001B[43m,\u001B[49m\u001B[43m \u001B[49m\u001B[43mx0\u001B[49m\u001B[43m,\u001B[49m\u001B[43m \u001B[49m\u001B[43margs\u001B[49m\u001B[43m,\u001B[49m\u001B[43m \u001B[49m\u001B[38;5;241;43m1\u001B[39;49m\u001B[43m,\u001B[49m\u001B[43m \u001B[49m\u001B[43mxtol\u001B[49m\u001B[43m,\u001B[49m\u001B[43m \u001B[49m\u001B[43mmaxfev\u001B[49m\u001B[43m,\u001B[49m\n\u001B[0;32m    238\u001B[0m \u001B[43m                             \u001B[49m\u001B[43mml\u001B[49m\u001B[43m,\u001B[49m\u001B[43m \u001B[49m\u001B[43mmu\u001B[49m\u001B[43m,\u001B[49m\u001B[43m \u001B[49m\u001B[43mepsfcn\u001B[49m\u001B[43m,\u001B[49m\u001B[43m \u001B[49m\u001B[43mfactor\u001B[49m\u001B[43m,\u001B[49m\u001B[43m \u001B[49m\u001B[43mdiag\u001B[49m\u001B[43m)\u001B[49m\n\u001B[0;32m    239\u001B[0m \u001B[38;5;28;01melse\u001B[39;00m:\n\u001B[0;32m    240\u001B[0m     _check_func(\u001B[38;5;124m'\u001B[39m\u001B[38;5;124mfsolve\u001B[39m\u001B[38;5;124m'\u001B[39m, \u001B[38;5;124m'\u001B[39m\u001B[38;5;124mfprime\u001B[39m\u001B[38;5;124m'\u001B[39m, Dfun, x0, args, n, (n, n))\n",
      "File \u001B[1;32m~\\Documents\\git\\MEA\\PC_SAFT\\PC_SAFT.py:434\u001B[0m, in \u001B[0;36mflash.<locals>.f\u001B[1;34m(w)\u001B[0m\n\u001B[0;32m    432\u001B[0m \u001B[38;5;28;01mdef\u001B[39;00m \u001B[38;5;21mf\u001B[39m(w):\n\u001B[0;32m    433\u001B[0m     \u001B[38;5;28;01mif\u001B[39;00m flash_type \u001B[38;5;241m==\u001B[39m \u001B[38;5;124m'\u001B[39m\u001B[38;5;124mBubble_T\u001B[39m\u001B[38;5;124m'\u001B[39m:\n\u001B[1;32m--> 434\u001B[0m         \u001B[38;5;28;01mreturn\u001B[39;00m \u001B[43meqs_to_solve\u001B[49m\u001B[43m(\u001B[49m\u001B[43mx\u001B[49m\u001B[43m,\u001B[49m\u001B[43m \u001B[49m\u001B[43mw\u001B[49m\u001B[43m[\u001B[49m\u001B[43m:\u001B[49m\u001B[38;5;241;43m-\u001B[39;49m\u001B[38;5;241;43m1\u001B[39;49m\u001B[43m]\u001B[49m\u001B[43m,\u001B[49m\u001B[43m \u001B[49m\u001B[43mT\u001B[49m\u001B[43m,\u001B[49m\u001B[43m \u001B[49m\u001B[43mw\u001B[49m\u001B[43m[\u001B[49m\u001B[38;5;241;43m-\u001B[39;49m\u001B[38;5;241;43m1\u001B[39;49m\u001B[43m]\u001B[49m\u001B[43m,\u001B[49m\u001B[43m \u001B[49m\u001B[43mflash_type\u001B[49m\u001B[43m)\u001B[49m\n\u001B[0;32m    435\u001B[0m     \u001B[38;5;28;01melif\u001B[39;00m flash_type \u001B[38;5;241m==\u001B[39m \u001B[38;5;124m'\u001B[39m\u001B[38;5;124mBubble_P\u001B[39m\u001B[38;5;124m'\u001B[39m:\n\u001B[0;32m    436\u001B[0m         \u001B[38;5;28;01mreturn\u001B[39;00m eqs_to_solve(x, w[:\u001B[38;5;241m-\u001B[39m\u001B[38;5;241m1\u001B[39m], w[\u001B[38;5;241m-\u001B[39m\u001B[38;5;241m1\u001B[39m], P, flash_type)\n",
      "File \u001B[1;32m~\\Documents\\git\\MEA\\PC_SAFT\\PC_SAFT.py:416\u001B[0m, in \u001B[0;36mflash.<locals>.eqs_to_solve\u001B[1;34m(x, y, T, P, flash_type)\u001B[0m\n\u001B[0;32m    414\u001B[0m \u001B[38;5;28;01mdef\u001B[39;00m \u001B[38;5;21meqs_to_solve\u001B[39m(x, y, T, P, flash_type):\n\u001B[1;32m--> 416\u001B[0m     mix_l \u001B[38;5;241m=\u001B[39m \u001B[43mPCSAFT\u001B[49m\u001B[43m(\u001B[49m\u001B[43mT\u001B[49m\u001B[43m,\u001B[49m\u001B[43m \u001B[49m\u001B[43mx\u001B[49m\u001B[43m,\u001B[49m\u001B[43m \u001B[49m\u001B[43mm\u001B[49m\u001B[43m,\u001B[49m\u001B[43m \u001B[49m\u001B[43mσ\u001B[49m\u001B[43m,\u001B[49m\u001B[43m \u001B[49m\u001B[43mϵ_k\u001B[49m\u001B[43m,\u001B[49m\u001B[43m \u001B[49m\u001B[43mk_ij\u001B[49m\u001B[43m,\u001B[49m\u001B[43m \u001B[49m\u001B[43mphase\u001B[49m\u001B[38;5;241;43m=\u001B[39;49m\u001B[38;5;124;43m'\u001B[39;49m\u001B[38;5;124;43mliquid\u001B[39;49m\u001B[38;5;124;43m'\u001B[39;49m\u001B[43m,\u001B[49m\u001B[43m \u001B[49m\u001B[43mP_sys\u001B[49m\u001B[38;5;241;43m=\u001B[39;49m\u001B[43mP\u001B[49m\u001B[43m,\u001B[49m\u001B[43m \u001B[49m\u001B[43mκ_AB\u001B[49m\u001B[38;5;241;43m=\u001B[39;49m\u001B[43mκ_AB\u001B[49m\u001B[43m,\u001B[49m\u001B[43m \u001B[49m\u001B[43mϵ_AB_k\u001B[49m\u001B[38;5;241;43m=\u001B[39;49m\u001B[43mϵ_AB_k\u001B[49m\u001B[43m)\u001B[49m\n\u001B[0;32m    417\u001B[0m     mix_v \u001B[38;5;241m=\u001B[39m PCSAFT(T, y, m, σ, ϵ_k, k_ij, phase\u001B[38;5;241m=\u001B[39m\u001B[38;5;124m'\u001B[39m\u001B[38;5;124mvapor\u001B[39m\u001B[38;5;124m'\u001B[39m, P_sys\u001B[38;5;241m=\u001B[39mP, κ_AB\u001B[38;5;241m=\u001B[39mκ_AB, ϵ_AB_k\u001B[38;5;241m=\u001B[39mϵ_AB_k)\n\u001B[0;32m    419\u001B[0m     φ_l \u001B[38;5;241m=\u001B[39m mix_l\u001B[38;5;241m.\u001B[39mφ()\n",
      "File \u001B[1;32m~\\Documents\\git\\MEA\\PC_SAFT\\PC_SAFT.py:72\u001B[0m, in \u001B[0;36mPCSAFT.__init__\u001B[1;34m(self, T, z, m, σ, ε_k, k_ij, η, phase, P_sys, κ_AB, ε_AB_k)\u001B[0m\n\u001B[0;32m     70\u001B[0m     \u001B[38;5;28mself\u001B[39m\u001B[38;5;241m.\u001B[39mP_sys \u001B[38;5;241m=\u001B[39m P_sys\n\u001B[0;32m     71\u001B[0m     \u001B[38;5;28mself\u001B[39m\u001B[38;5;241m.\u001B[39mphase \u001B[38;5;241m=\u001B[39m phase\n\u001B[1;32m---> 72\u001B[0m     \u001B[38;5;28;43mself\u001B[39;49m\u001B[38;5;241;43m.\u001B[39;49m\u001B[43mfind_η\u001B[49m\u001B[43m(\u001B[49m\u001B[43m)\u001B[49m\n\u001B[0;32m     73\u001B[0m \u001B[38;5;28;01melif\u001B[39;00m P_sys \u001B[38;5;129;01mis\u001B[39;00m \u001B[38;5;28;01mNone\u001B[39;00m \u001B[38;5;129;01mand\u001B[39;00m η \u001B[38;5;129;01mis\u001B[39;00m \u001B[38;5;129;01mnot\u001B[39;00m \u001B[38;5;28;01mNone\u001B[39;00m:\n\u001B[0;32m     74\u001B[0m     \u001B[38;5;28mself\u001B[39m\u001B[38;5;241m.\u001B[39mη \u001B[38;5;241m=\u001B[39m η\n",
      "File \u001B[1;32m~\\Documents\\git\\MEA\\PC_SAFT\\PC_SAFT.py:354\u001B[0m, in \u001B[0;36mPCSAFT.find_η\u001B[1;34m(self)\u001B[0m\n\u001B[0;32m    352\u001B[0m     \u001B[38;5;28mprint\u001B[39m(\u001B[38;5;124m'\u001B[39m\u001B[38;5;124mPhase spelling probably wrong or phase is missing\u001B[39m\u001B[38;5;124m'\u001B[39m)\n\u001B[0;32m    353\u001B[0m     ηg \u001B[38;5;241m=\u001B[39m \u001B[38;5;241m.01\u001B[39m\n\u001B[1;32m--> 354\u001B[0m η \u001B[38;5;241m=\u001B[39m \u001B[43mroot\u001B[49m\u001B[43m(\u001B[49m\u001B[43mf\u001B[49m\u001B[43m,\u001B[49m\u001B[43m \u001B[49m\u001B[43mnp\u001B[49m\u001B[38;5;241;43m.\u001B[39;49m\u001B[43marray\u001B[49m\u001B[43m(\u001B[49m\u001B[43m[\u001B[49m\u001B[43mηg\u001B[49m\u001B[43m]\u001B[49m\u001B[43m)\u001B[49m\u001B[43m)\u001B[49m\u001B[38;5;241m.\u001B[39mx[\u001B[38;5;241m0\u001B[39m]\n\u001B[0;32m    356\u001B[0m \u001B[38;5;28mself\u001B[39m\u001B[38;5;241m.\u001B[39mη \u001B[38;5;241m=\u001B[39m η\n",
      "File \u001B[1;32m~\\anaconda3\\lib\\site-packages\\scipy\\optimize\\_root.py:234\u001B[0m, in \u001B[0;36mroot\u001B[1;34m(fun, x0, args, method, jac, tol, callback, options)\u001B[0m\n\u001B[0;32m    231\u001B[0m         options\u001B[38;5;241m.\u001B[39msetdefault(\u001B[38;5;124m'\u001B[39m\u001B[38;5;124mfatol\u001B[39m\u001B[38;5;124m'\u001B[39m, np\u001B[38;5;241m.\u001B[39minf)\n\u001B[0;32m    233\u001B[0m \u001B[38;5;28;01mif\u001B[39;00m meth \u001B[38;5;241m==\u001B[39m \u001B[38;5;124m'\u001B[39m\u001B[38;5;124mhybr\u001B[39m\u001B[38;5;124m'\u001B[39m:\n\u001B[1;32m--> 234\u001B[0m     sol \u001B[38;5;241m=\u001B[39m _root_hybr(fun, x0, args\u001B[38;5;241m=\u001B[39margs, jac\u001B[38;5;241m=\u001B[39mjac, \u001B[38;5;241m*\u001B[39m\u001B[38;5;241m*\u001B[39moptions)\n\u001B[0;32m    235\u001B[0m \u001B[38;5;28;01melif\u001B[39;00m meth \u001B[38;5;241m==\u001B[39m \u001B[38;5;124m'\u001B[39m\u001B[38;5;124mlm\u001B[39m\u001B[38;5;124m'\u001B[39m:\n\u001B[0;32m    236\u001B[0m     sol \u001B[38;5;241m=\u001B[39m _root_leastsq(fun, x0, args\u001B[38;5;241m=\u001B[39margs, jac\u001B[38;5;241m=\u001B[39mjac, \u001B[38;5;241m*\u001B[39m\u001B[38;5;241m*\u001B[39moptions)\n",
      "File \u001B[1;32m~\\anaconda3\\lib\\site-packages\\scipy\\optimize\\_minpack_py.py:237\u001B[0m, in \u001B[0;36m_root_hybr\u001B[1;34m(func, x0, args, jac, col_deriv, xtol, maxfev, band, eps, factor, diag, **unknown_options)\u001B[0m\n\u001B[0;32m    235\u001B[0m     \u001B[38;5;28;01mif\u001B[39;00m maxfev \u001B[38;5;241m==\u001B[39m \u001B[38;5;241m0\u001B[39m:\n\u001B[0;32m    236\u001B[0m         maxfev \u001B[38;5;241m=\u001B[39m \u001B[38;5;241m200\u001B[39m \u001B[38;5;241m*\u001B[39m (n \u001B[38;5;241m+\u001B[39m \u001B[38;5;241m1\u001B[39m)\n\u001B[1;32m--> 237\u001B[0m     retval \u001B[38;5;241m=\u001B[39m \u001B[43m_minpack\u001B[49m\u001B[38;5;241;43m.\u001B[39;49m\u001B[43m_hybrd\u001B[49m\u001B[43m(\u001B[49m\u001B[43mfunc\u001B[49m\u001B[43m,\u001B[49m\u001B[43m \u001B[49m\u001B[43mx0\u001B[49m\u001B[43m,\u001B[49m\u001B[43m \u001B[49m\u001B[43margs\u001B[49m\u001B[43m,\u001B[49m\u001B[43m \u001B[49m\u001B[38;5;241;43m1\u001B[39;49m\u001B[43m,\u001B[49m\u001B[43m \u001B[49m\u001B[43mxtol\u001B[49m\u001B[43m,\u001B[49m\u001B[43m \u001B[49m\u001B[43mmaxfev\u001B[49m\u001B[43m,\u001B[49m\n\u001B[0;32m    238\u001B[0m \u001B[43m                             \u001B[49m\u001B[43mml\u001B[49m\u001B[43m,\u001B[49m\u001B[43m \u001B[49m\u001B[43mmu\u001B[49m\u001B[43m,\u001B[49m\u001B[43m \u001B[49m\u001B[43mepsfcn\u001B[49m\u001B[43m,\u001B[49m\u001B[43m \u001B[49m\u001B[43mfactor\u001B[49m\u001B[43m,\u001B[49m\u001B[43m \u001B[49m\u001B[43mdiag\u001B[49m\u001B[43m)\u001B[49m\n\u001B[0;32m    239\u001B[0m \u001B[38;5;28;01melse\u001B[39;00m:\n\u001B[0;32m    240\u001B[0m     _check_func(\u001B[38;5;124m'\u001B[39m\u001B[38;5;124mfsolve\u001B[39m\u001B[38;5;124m'\u001B[39m, \u001B[38;5;124m'\u001B[39m\u001B[38;5;124mfprime\u001B[39m\u001B[38;5;124m'\u001B[39m, Dfun, x0, args, n, (n, n))\n",
      "File \u001B[1;32m~\\Documents\\git\\MEA\\PC_SAFT\\PC_SAFT.py:342\u001B[0m, in \u001B[0;36mPCSAFT.find_η.<locals>.f\u001B[1;34m(ηg)\u001B[0m\n\u001B[0;32m    340\u001B[0m \u001B[38;5;28;01mdef\u001B[39;00m \u001B[38;5;21mf\u001B[39m(ηg):\n\u001B[0;32m    341\u001B[0m     \u001B[38;5;28mself\u001B[39m\u001B[38;5;241m.\u001B[39mη \u001B[38;5;241m=\u001B[39m \u001B[38;5;28mfloat\u001B[39m(ηg)\n\u001B[1;32m--> 342\u001B[0m     P \u001B[38;5;241m=\u001B[39m \u001B[38;5;28;43mself\u001B[39;49m\u001B[38;5;241;43m.\u001B[39;49m\u001B[43mP\u001B[49m\u001B[43m(\u001B[49m\u001B[43m)\u001B[49m\n\u001B[0;32m    343\u001B[0m     P_sys \u001B[38;5;241m=\u001B[39m \u001B[38;5;28mself\u001B[39m\u001B[38;5;241m.\u001B[39mP_sys\n\u001B[0;32m    344\u001B[0m     \u001B[38;5;28;01mreturn\u001B[39;00m (P \u001B[38;5;241m-\u001B[39m P_sys)\u001B[38;5;241m/\u001B[39m\u001B[38;5;241m100000\u001B[39m\n",
      "File \u001B[1;32m~\\Documents\\git\\MEA\\PC_SAFT\\PC_SAFT.py:332\u001B[0m, in \u001B[0;36mPCSAFT.P\u001B[1;34m(self)\u001B[0m\n\u001B[0;32m    329\u001B[0m \u001B[38;5;28;01mdef\u001B[39;00m \u001B[38;5;21mP\u001B[39m(\u001B[38;5;28mself\u001B[39m):\n\u001B[0;32m    331\u001B[0m     T \u001B[38;5;241m=\u001B[39m \u001B[38;5;28mself\u001B[39m\u001B[38;5;241m.\u001B[39mT\n\u001B[1;32m--> 332\u001B[0m     Z \u001B[38;5;241m=\u001B[39m \u001B[38;5;28;43mself\u001B[39;49m\u001B[38;5;241;43m.\u001B[39;49m\u001B[43mZ\u001B[49m\u001B[43m(\u001B[49m\u001B[43m)\u001B[49m\n\u001B[0;32m    333\u001B[0m     ρ \u001B[38;5;241m=\u001B[39m \u001B[38;5;28mself\u001B[39m\u001B[38;5;241m.\u001B[39mρ()\n\u001B[0;32m    334\u001B[0m     kb \u001B[38;5;241m=\u001B[39m \u001B[38;5;28mself\u001B[39m\u001B[38;5;241m.\u001B[39mkb\n",
      "File \u001B[1;32m~\\Documents\\git\\MEA\\PC_SAFT\\PC_SAFT.py:323\u001B[0m, in \u001B[0;36mPCSAFT.Z\u001B[1;34m(self)\u001B[0m\n\u001B[0;32m    320\u001B[0m \u001B[38;5;28;01mdef\u001B[39;00m \u001B[38;5;21mZ\u001B[39m(\u001B[38;5;28mself\u001B[39m):\n\u001B[0;32m    321\u001B[0m     η \u001B[38;5;241m=\u001B[39m \u001B[38;5;28mself\u001B[39m\u001B[38;5;241m.\u001B[39mη\n\u001B[1;32m--> 323\u001B[0m     da_dη \u001B[38;5;241m=\u001B[39m \u001B[38;5;28;43mself\u001B[39;49m\u001B[38;5;241;43m.\u001B[39;49m\u001B[43mda_dη\u001B[49m\u001B[43m(\u001B[49m\u001B[43m)\u001B[49m\n\u001B[0;32m    325\u001B[0m     \u001B[38;5;28mself\u001B[39m\u001B[38;5;241m.\u001B[39mη \u001B[38;5;241m=\u001B[39m \u001B[38;5;28mself\u001B[39m\u001B[38;5;241m.\u001B[39mη_og\n\u001B[0;32m    327\u001B[0m     \u001B[38;5;28;01mreturn\u001B[39;00m \u001B[38;5;241m1\u001B[39m \u001B[38;5;241m+\u001B[39m η \u001B[38;5;241m*\u001B[39m da_dη\n",
      "File \u001B[1;32m~\\Documents\\git\\MEA\\PC_SAFT\\PC_SAFT.py:277\u001B[0m, in \u001B[0;36mPCSAFT.da_dη\u001B[1;34m(self)\u001B[0m\n\u001B[0;32m    273\u001B[0m     \u001B[38;5;28;01mreturn\u001B[39;00m \u001B[38;5;28mself\u001B[39m\u001B[38;5;241m.\u001B[39ma_res()\n\u001B[0;32m    275\u001B[0m \u001B[38;5;28mself\u001B[39m\u001B[38;5;241m.\u001B[39mη \u001B[38;5;241m=\u001B[39m \u001B[38;5;28mself\u001B[39m\u001B[38;5;241m.\u001B[39mη_og\n\u001B[1;32m--> 277\u001B[0m \u001B[38;5;28;01mreturn\u001B[39;00m \u001B[43mnd\u001B[49m\u001B[38;5;241;43m.\u001B[39;49m\u001B[43mDerivative\u001B[49m\u001B[43m(\u001B[49m\u001B[43mf\u001B[49m\u001B[43m)\u001B[49m\u001B[43m(\u001B[49m\u001B[43mη\u001B[49m\u001B[43m)\u001B[49m\n",
      "File \u001B[1;32m~\\anaconda3\\lib\\site-packages\\numdifftools\\core.py:288\u001B[0m, in \u001B[0;36mDerivative.__call__\u001B[1;34m(self, x, *args, **kwds)\u001B[0m\n\u001B[0;32m    286\u001B[0m x_i \u001B[38;5;241m=\u001B[39m np\u001B[38;5;241m.\u001B[39masarray(x)\n\u001B[0;32m    287\u001B[0m \u001B[38;5;28;01mwith\u001B[39;00m np\u001B[38;5;241m.\u001B[39merrstate(divide\u001B[38;5;241m=\u001B[39m\u001B[38;5;124m'\u001B[39m\u001B[38;5;124mignore\u001B[39m\u001B[38;5;124m'\u001B[39m, invalid\u001B[38;5;241m=\u001B[39m\u001B[38;5;124m'\u001B[39m\u001B[38;5;124mignore\u001B[39m\u001B[38;5;124m'\u001B[39m):\n\u001B[1;32m--> 288\u001B[0m     results, f_xi \u001B[38;5;241m=\u001B[39m \u001B[38;5;28;43mself\u001B[39;49m\u001B[38;5;241;43m.\u001B[39;49m\u001B[43m_derivative\u001B[49m\u001B[43m(\u001B[49m\u001B[43mx_i\u001B[49m\u001B[43m,\u001B[49m\u001B[43m \u001B[49m\u001B[43margs\u001B[49m\u001B[43m,\u001B[49m\u001B[43m \u001B[49m\u001B[43mkwds\u001B[49m\u001B[43m)\u001B[49m\n\u001B[0;32m    289\u001B[0m     derivative, info \u001B[38;5;241m=\u001B[39m \u001B[38;5;28mself\u001B[39m\u001B[38;5;241m.\u001B[39m_extrapolate(\u001B[38;5;241m*\u001B[39mresults)\n\u001B[0;32m    290\u001B[0m \u001B[38;5;28;01mif\u001B[39;00m \u001B[38;5;28mself\u001B[39m\u001B[38;5;241m.\u001B[39mfull_output:\n",
      "File \u001B[1;32m~\\anaconda3\\lib\\site-packages\\numdifftools\\core.py:242\u001B[0m, in \u001B[0;36mDerivative._derivative_nonzero_order\u001B[1;34m(self, x_i, args, kwds)\u001B[0m\n\u001B[0;32m    238\u001B[0m results \u001B[38;5;241m=\u001B[39m [diff(f, fxi, x_i, h) \u001B[38;5;28;01mfor\u001B[39;00m h \u001B[38;5;129;01min\u001B[39;00m steps]\n\u001B[0;32m    240\u001B[0m \u001B[38;5;28mself\u001B[39m\u001B[38;5;241m.\u001B[39mset_richardson_rule(step_ratio, \u001B[38;5;28mself\u001B[39m\u001B[38;5;241m.\u001B[39mrichardson_terms)\n\u001B[1;32m--> 242\u001B[0m \u001B[38;5;28;01mreturn\u001B[39;00m \u001B[38;5;28;43mself\u001B[39;49m\u001B[38;5;241;43m.\u001B[39;49m\u001B[43mfd_rule\u001B[49m\u001B[38;5;241;43m.\u001B[39;49m\u001B[43mapply\u001B[49m\u001B[43m(\u001B[49m\u001B[43mresults\u001B[49m\u001B[43m,\u001B[49m\u001B[43m \u001B[49m\u001B[43msteps\u001B[49m\u001B[43m,\u001B[49m\u001B[43m \u001B[49m\u001B[43mstep_ratio\u001B[49m\u001B[43m)\u001B[49m, fxi\n",
      "File \u001B[1;32m~\\anaconda3\\lib\\site-packages\\numdifftools\\finite_difference.py:583\u001B[0m, in \u001B[0;36mLogRule.apply\u001B[1;34m(self, sequence, steps, step_ratio)\u001B[0m\n\u001B[0;32m    571\u001B[0m \u001B[38;5;28;01mdef\u001B[39;00m \u001B[38;5;21mapply\u001B[39m(\u001B[38;5;28mself\u001B[39m, sequence, steps, step_ratio\u001B[38;5;241m=\u001B[39m\u001B[38;5;241m2.0\u001B[39m):\n\u001B[0;32m    572\u001B[0m \u001B[38;5;250m    \u001B[39m\u001B[38;5;124;03m\"\"\"\u001B[39;00m\n\u001B[0;32m    573\u001B[0m \u001B[38;5;124;03m    Apply finite difference rule along the first axis.\u001B[39;00m\n\u001B[0;32m    574\u001B[0m \n\u001B[1;32m   (...)\u001B[0m\n\u001B[0;32m    581\u001B[0m \n\u001B[0;32m    582\u001B[0m \u001B[38;5;124;03m    \"\"\"\u001B[39;00m\n\u001B[1;32m--> 583\u001B[0m     f_del, h, original_shape \u001B[38;5;241m=\u001B[39m \u001B[38;5;28;43mself\u001B[39;49m\u001B[38;5;241;43m.\u001B[39;49m\u001B[43m_vstack\u001B[49m\u001B[43m(\u001B[49m\u001B[43msequence\u001B[49m\u001B[43m,\u001B[49m\u001B[43m \u001B[49m\u001B[43msteps\u001B[49m\u001B[43m)\u001B[49m\n\u001B[0;32m    584\u001B[0m     der_init, h \u001B[38;5;241m=\u001B[39m \u001B[38;5;28mself\u001B[39m\u001B[38;5;241m.\u001B[39m_apply(f_del, h, step_ratio)\n\u001B[0;32m    585\u001B[0m     \u001B[38;5;28;01mreturn\u001B[39;00m der_init, h, original_shape\n",
      "File \u001B[1;32m~\\anaconda3\\lib\\site-packages\\numdifftools\\finite_difference.py:563\u001B[0m, in \u001B[0;36mLogRule._vstack\u001B[1;34m(sequence, steps)\u001B[0m\n\u001B[0;32m    561\u001B[0m \u001B[38;5;129m@staticmethod\u001B[39m\n\u001B[0;32m    562\u001B[0m \u001B[38;5;28;01mdef\u001B[39;00m \u001B[38;5;21m_vstack\u001B[39m(sequence, steps):\n\u001B[1;32m--> 563\u001B[0m     original_shape \u001B[38;5;241m=\u001B[39m np\u001B[38;5;241m.\u001B[39mshape(\u001B[43msequence\u001B[49m\u001B[43m[\u001B[49m\u001B[38;5;241;43m0\u001B[39;49m\u001B[43m]\u001B[49m)\n\u001B[0;32m    564\u001B[0m     f_del \u001B[38;5;241m=\u001B[39m np\u001B[38;5;241m.\u001B[39mvstack([np\u001B[38;5;241m.\u001B[39mravel(r) \u001B[38;5;28;01mfor\u001B[39;00m r \u001B[38;5;129;01min\u001B[39;00m sequence])\n\u001B[0;32m    565\u001B[0m     one \u001B[38;5;241m=\u001B[39m np\u001B[38;5;241m.\u001B[39mones(original_shape)\n",
      "\u001B[1;31mIndexError\u001B[0m: list index out of range"
     ]
    }
   ],
   "execution_count": 14
  },
  {
   "metadata": {},
   "cell_type": "code",
   "source": [
    "plt.plot(α_range, P_CO2_range, linestyle='--', color='black')\n",
    "plt.plot(α_data, P_CO2_data, marker='x', linestyle='None')\n",
    "plt.yscale('log')"
   ],
   "id": "bea6fed50fd8b362",
   "outputs": [],
   "execution_count": null
  }
 ],
 "metadata": {
  "kernelspec": {
   "display_name": "Python 3",
   "language": "python",
   "name": "python3"
  },
  "language_info": {
   "codemirror_mode": {
    "name": "ipython",
    "version": 2
   },
   "file_extension": ".py",
   "mimetype": "text/x-python",
   "name": "python",
   "nbconvert_exporter": "python",
   "pygments_lexer": "ipython2",
   "version": "2.7.6"
  }
 },
 "nbformat": 4,
 "nbformat_minor": 5
}
