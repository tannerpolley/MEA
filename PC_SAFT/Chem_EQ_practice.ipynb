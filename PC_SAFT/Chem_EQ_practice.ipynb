{
 "cells": [
  {
   "cell_type": "code",
   "id": "initial_id",
   "metadata": {
    "collapsed": true,
    "ExecuteTime": {
     "end_time": "2024-06-21T00:14:33.678471Z",
     "start_time": "2024-06-21T00:14:33.433053Z"
    }
   },
   "source": [
    "import numpy as np\n",
    "log = np.log\n",
    "array = np.array\n",
    "from scipy.optimize import root\n",
    "from PC_SAFT.PC_SAFT import BPT\n"
   ],
   "outputs": [],
   "execution_count": 1
  },
  {
   "metadata": {
    "ExecuteTime": {
     "end_time": "2024-06-21T00:31:42.811558Z",
     "start_time": "2024-06-21T00:31:42.798025Z"
    }
   },
   "cell_type": "code",
   "source": [
    "MWs_l = np.array([44.01, 61.08, 18.02]) / 1000  # kg/mol\n",
    "\n",
    "def liquid_density(Tl, x):\n",
    "\n",
    "    x_CO2, x_MEA, x_H2O = x\n",
    "\n",
    "    MWT_l = sum([x[i] * MWs_l[i] for i in range(len(x))])\n",
    "\n",
    "    a1, b1, c1 = [-5.35162e-7, -4.51417e-4, 1.19451]\n",
    "    a2, b2, c2 = [-3.2484e-6, 0.00165, 0.793]\n",
    "\n",
    "    V_MEA = MWs_l[1]*1000 / (a1 * Tl ** 2 + b1 * Tl + c1)  # mL/mol\n",
    "    V_H2O = MWs_l[2]*1000 / (a2 * Tl ** 2 + b2 * Tl + c2)   # mL/mol\n",
    "\n",
    "    a, b, c, d, e = 10.57920122, -2.020494157, 3.15067933, 192.0126008, -695.3848617\n",
    "\n",
    "\n",
    "    V_CO2 = a + (b + c * x_MEA) * x_MEA * x_H2O + (d + e * x_MEA) * x_MEA * x_CO2\n",
    "\n",
    "    V_l = V_CO2 * x_CO2 + x_MEA * V_MEA + x_H2O * V_H2O # Liquid Molar Volume (mL/mol)\n",
    "    V_l = V_l*1e-6  # Liquid Molar Volume (mL/mol --> m3/mol)\n",
    "\n",
    "    rho_mol_l = V_l**-1  # Liquid Molar Density (m3/mol --> mol/m3)\n",
    "\n",
    "    return rho_mol_l\n",
    "\n",
    "def solve_ChemEQ_log(α, w_MEA, Tl):\n",
    "    \n",
    "    MW_CO2 = 44.01/1000\n",
    "    MW_MEA = 61.08/1000\n",
    "    MW_H2O = 18.02/1000\n",
    "    \n",
    "    def get_x(α, w_MEA):\n",
    "    \n",
    "        x_MEA = ((1 + α + (MW_MEA/MW_H2O))*(1-w_MEA)/w_MEA)**-1\n",
    "        x_CO2 = x_MEA*α\n",
    "        x_H2O = 1 - x_CO2 - x_MEA\n",
    "    \n",
    "        return [x_CO2, x_MEA, x_H2O]\n",
    "    \n",
    "    x = get_x(α, w_MEA)\n",
    "    \n",
    "    rho_mol_l = liquid_density(Tl, x)\n",
    "    \n",
    "    Cl = [x[i] * rho_mol_l for i in range(len(x))]\n",
    "    \n",
    "    Cl_MEA_t = Cl[1]\n",
    "    Cl_H2O_t = Cl[2]\n",
    " \n",
    "    C1 = 132.889, -13445.9, -22.4773, 0\n",
    "    C2 = 231.465, - 12092.10, - 36.7816, 0\n",
    "    C3 = 216.049, -12431.70, -35.4819, 0\n",
    "    C4 = .79960, -8084.81, 0, 0\n",
    "    C5 = 1.282562, -3456.179, 0, - 0.007484\n",
    "    \n",
    "\n",
    "    def f_logK(C, T):\n",
    "        C1, C2, C3, C4 = C\n",
    "        return np.exp(C1 + C2 / T + C3 * log(T) + C4 * T)\n",
    "\n",
    "    K1 = f_logK(C1, Tl)\n",
    "    K2 = f_logK(C2, Tl)\n",
    "\n",
    "    K3 = f_logK(C3, Tl)\n",
    "    K4 = f_logK(C4, Tl)\n",
    "    K5 = f_logK(C5, Tl)\n",
    "    \n",
    "    scale = 1e6\n",
    "\n",
    "    def f(z):\n",
    "        Cl_CO2, Cl_MEA, Cl_MEAH, Cl_MEACOO, Cl_HCO3, Cl_H3O, Cl_OH, Cl_CO3 = z\n",
    "\n",
    "        # Kee1 = log(Cl_H3O) + log(Cl_OH)\n",
    "        # Kee2 = log(Cl_HCO3)+log(Cl_HCO3) - log(Cl_HCO3)\n",
    "        # Kee3 = log(Cl_H3O) +log(Cl_CO3) - log(Cl_HCO3)\n",
    "        # Kee4 = log(Cl_HCO3)+log(Cl_MEA) - log(Cl_MEACOO)\n",
    "        # Kee5 = log(Cl_H3O)+log(Cl_MEA) - log(Cl_MEAH)\n",
    "        \n",
    "        Kee1 = Cl_H3O*Cl_OH\n",
    "        Kee2 = Cl_HCO3*Cl_HCO3 / Cl_HCO3\n",
    "        Kee3 = Cl_H3O*Cl_CO3 / Cl_HCO3\n",
    "        Kee4 = Cl_HCO3*Cl_MEA / Cl_MEACOO\n",
    "        Kee5 = Cl_H3O*Cl_MEA / Cl_MEAH\n",
    "\n",
    "        \n",
    "        eq1 = (Kee1 - K1)*scale\n",
    "        eq2 = (Kee2 - K2)*scale\n",
    "        eq3 = (Kee3 - K3)*scale\n",
    "        eq4 = (Kee4 - K4)*scale\n",
    "        eq5 = (Kee5 - K5)*scale\n",
    "        eq6 = Cl_MEA_t - (Cl_MEA + Cl_MEAH - Cl_MEACOO)\n",
    "        eq7 = Cl_MEA_t*α - (Cl_CO2 - Cl_HCO3 + Cl_CO3 + Cl_MEACOO)\n",
    "        eq8 = Cl_H3O + Cl_MEAH - Cl_MEACOO - Cl_HCO3 - 2*Cl_CO3 - Cl_OH\n",
    "\n",
    "        eqs = array([eq1, eq2, eq3, eq4, eq5, eq6, eq7, eq8])\n",
    "        float_formatter = \"{:.4f}\".format\n",
    "        np.set_printoptions(formatter={'float_kind':float_formatter})\n",
    "        # print(z)\n",
    "        # print(eqs)\n",
    "        \n",
    "        return eqs\n",
    "\n",
    "    guesses = array([0.1, 4000, 2000, 2000, 50,  10, .01, .01])\n",
    "    result = root(f, guesses)\n",
    "    Cl =  array(result.x)\n",
    "    print(Cl/sum(Cl))\n",
    "    Cl_CO2, Cl_MEA = Cl[:2]\n",
    "    x = ([Cl[0], Cl[1], Cl_H2O_t])/np.sum([Cl[0], Cl[1], Cl_H2O_t])\n",
    "    \n",
    "    print(x)\n",
    "    print(result.success)\n",
    "\n",
    "    return x\n",
    "\n",
    "x = solve_ChemEQ_log(.3004, .30, 393.15)\n",
    "x = x[:3]/sum(x[:3])\n",
    "print(x)\n"
   ],
   "id": "9ec9f7a69ee22b91",
   "outputs": [
    {
     "name": "stdout",
     "output_type": "stream",
     "text": [
      "[-0.5264 0.2958 0.6153 0.6153 0.0000 0.0000 -0.0000 0.0000]\n",
      "[-0.2008 0.1128 1.0879]\n",
      "True\n",
      "[-0.2008 0.1128 1.0879]\n"
     ]
    }
   ],
   "execution_count": 64
  },
  {
   "metadata": {
    "ExecuteTime": {
     "end_time": "2024-06-21T04:27:38.149033Z",
     "start_time": "2024-06-21T04:27:21.907552Z"
    }
   },
   "cell_type": "code",
   "source": [
    "\n",
    "x = np.array([1.14843E-06, 0.029480076, 0.892089614])\n",
    "# x = x/sum(x)\n",
    "# 2B Association Scheme\n",
    "m = np.array([2.0729, 3.0353, 1.9599])  # Number of segments\n",
    "σ = np.array([2.7852, 3.0435, 2.362])  # Temperature-Independent segment diameter σ_i (Aᵒ)\n",
    "ϵ_k = np.array([169.21, 277.174, 279.42]) # Depth of pair potential / Boltzmann constant (K)\n",
    "k_ij = np.array([[0.0, .16, .065],\n",
    "                 [.16, 0.0, -.18],\n",
    "                 [.065, -.18, 0.0]])\n",
    "κ_AB = np.array([0, .037470, .2039])\n",
    "ϵ_AB_k = np.array([0, 2586.3, 2059.28])\n",
    "\n",
    "T = 393.15\n",
    "yg = [.06, .01, .93]\n",
    "Pg = 700000\n",
    "y, P = BPT(T, x, m, σ, ϵ_k, k_ij, yg, Pg, κ_AB=κ_AB, ϵ_AB_k=ϵ_AB_k,)\n",
    "print(y, P)\n"
   ],
   "id": "92bd879a87a64c66",
   "outputs": [
    {
     "name": "stdout",
     "output_type": "stream",
     "text": [
      "[0.0001 0.0002 0.9998] 3843057.035551169\n"
     ]
    }
   ],
   "execution_count": 77
  },
  {
   "metadata": {
    "ExecuteTime": {
     "end_time": "2024-06-22T01:36:20.528965Z",
     "start_time": "2024-06-22T01:36:13.473827Z"
    }
   },
   "cell_type": "code",
   "source": [
    "!pip install reportlab\n",
    "from reportlab.pdfgen import canvas\n",
    " \n",
    "def convert_to_pdf_reportlab(input_file, output_pdf):\n",
    "    pdf_canvas = canvas.Canvas(output_pdf)\n",
    " \n",
    "    with open(input_file, 'r') as python_file:\n",
    "        content = python_file.read()\n",
    "        pdf_canvas.drawString(100, 800, content)\n",
    " \n",
    "    pdf_canvas.save()\n",
    " \n",
    "# Example usage:\n",
    "convert_to_pdf_reportlab('PC_SAFT.py', 'PC_LAB.pdf')\n",
    "print(\"PDF is Saved Successfully\")"
   ],
   "id": "e2a8389670b505cf",
   "outputs": [
    {
     "name": "stderr",
     "output_type": "stream",
     "text": [
      "\n",
      "[notice] A new release of pip is available: 24.0 -> 24.1\n",
      "[notice] To update, run: python.exe -m pip install --upgrade pip\n"
     ]
    },
    {
     "name": "stdout",
     "output_type": "stream",
     "text": [
      "Collecting reportlab\n",
      "  Downloading reportlab-4.2.0-py3-none-any.whl.metadata (1.4 kB)\n",
      "Requirement already satisfied: pillow>=9.0.0 in c:\\users\\tanner\\anaconda3\\lib\\site-packages (from reportlab) (10.2.0)\n",
      "Requirement already satisfied: chardet in c:\\users\\tanner\\anaconda3\\lib\\site-packages (from reportlab) (4.0.0)\n",
      "Downloading reportlab-4.2.0-py3-none-any.whl (1.9 MB)\n",
      "   ---------------------------------------- 0.0/1.9 MB ? eta -:--:--\n",
      "   ---------------------------------------- 0.0/1.9 MB 640.0 kB/s eta 0:00:04\n",
      "   - -------------------------------------- 0.1/1.9 MB 812.7 kB/s eta 0:00:03\n",
      "   ----- ---------------------------------- 0.3/1.9 MB 2.9 MB/s eta 0:00:01\n",
      "   --------------- ------------------------ 0.7/1.9 MB 5.9 MB/s eta 0:00:01\n",
      "   ------------------------- -------------- 1.2/1.9 MB 7.1 MB/s eta 0:00:01\n",
      "   ------------------------------------ --- 1.8/1.9 MB 8.7 MB/s eta 0:00:01\n",
      "   ---------------------------------------- 1.9/1.9 MB 8.2 MB/s eta 0:00:00\n",
      "Installing collected packages: reportlab\n",
      "Successfully installed reportlab-4.2.0\n"
     ]
    },
    {
     "ename": "UnicodeDecodeError",
     "evalue": "'charmap' codec can't decode byte 0x81 in position 3443: character maps to <undefined>",
     "output_type": "error",
     "traceback": [
      "\u001B[1;31m---------------------------------------------------------------------------\u001B[0m",
      "\u001B[1;31mUnicodeDecodeError\u001B[0m                        Traceback (most recent call last)",
      "Cell \u001B[1;32mIn[78], line 14\u001B[0m\n\u001B[0;32m     11\u001B[0m     pdf_canvas\u001B[38;5;241m.\u001B[39msave()\n\u001B[0;32m     13\u001B[0m \u001B[38;5;66;03m# Example usage:\u001B[39;00m\n\u001B[1;32m---> 14\u001B[0m \u001B[43mconvert_to_pdf_reportlab\u001B[49m\u001B[43m(\u001B[49m\u001B[38;5;124;43m'\u001B[39;49m\u001B[38;5;124;43mPC_SAFT.py\u001B[39;49m\u001B[38;5;124;43m'\u001B[39;49m\u001B[43m,\u001B[49m\u001B[43m \u001B[49m\u001B[38;5;124;43m'\u001B[39;49m\u001B[38;5;124;43mPC_LAB.pdf\u001B[39;49m\u001B[38;5;124;43m'\u001B[39;49m\u001B[43m)\u001B[49m\n\u001B[0;32m     15\u001B[0m \u001B[38;5;28mprint\u001B[39m(\u001B[38;5;124m\"\u001B[39m\u001B[38;5;124mPDF is Saved Successfully\u001B[39m\u001B[38;5;124m\"\u001B[39m)\n",
      "Cell \u001B[1;32mIn[78], line 8\u001B[0m, in \u001B[0;36mconvert_to_pdf_reportlab\u001B[1;34m(input_file, output_pdf)\u001B[0m\n\u001B[0;32m      5\u001B[0m pdf_canvas \u001B[38;5;241m=\u001B[39m canvas\u001B[38;5;241m.\u001B[39mCanvas(output_pdf)\n\u001B[0;32m      7\u001B[0m \u001B[38;5;28;01mwith\u001B[39;00m \u001B[38;5;28mopen\u001B[39m(input_file, \u001B[38;5;124m'\u001B[39m\u001B[38;5;124mr\u001B[39m\u001B[38;5;124m'\u001B[39m) \u001B[38;5;28;01mas\u001B[39;00m python_file:\n\u001B[1;32m----> 8\u001B[0m     content \u001B[38;5;241m=\u001B[39m \u001B[43mpython_file\u001B[49m\u001B[38;5;241;43m.\u001B[39;49m\u001B[43mread\u001B[49m\u001B[43m(\u001B[49m\u001B[43m)\u001B[49m\n\u001B[0;32m      9\u001B[0m     pdf_canvas\u001B[38;5;241m.\u001B[39mdrawString(\u001B[38;5;241m100\u001B[39m, \u001B[38;5;241m800\u001B[39m, content)\n\u001B[0;32m     11\u001B[0m pdf_canvas\u001B[38;5;241m.\u001B[39msave()\n",
      "File \u001B[1;32m~\\anaconda3\\lib\\encodings\\cp1252.py:23\u001B[0m, in \u001B[0;36mIncrementalDecoder.decode\u001B[1;34m(self, input, final)\u001B[0m\n\u001B[0;32m     22\u001B[0m \u001B[38;5;28;01mdef\u001B[39;00m \u001B[38;5;21mdecode\u001B[39m(\u001B[38;5;28mself\u001B[39m, \u001B[38;5;28minput\u001B[39m, final\u001B[38;5;241m=\u001B[39m\u001B[38;5;28;01mFalse\u001B[39;00m):\n\u001B[1;32m---> 23\u001B[0m     \u001B[38;5;28;01mreturn\u001B[39;00m \u001B[43mcodecs\u001B[49m\u001B[38;5;241;43m.\u001B[39;49m\u001B[43mcharmap_decode\u001B[49m\u001B[43m(\u001B[49m\u001B[38;5;28;43minput\u001B[39;49m\u001B[43m,\u001B[49m\u001B[38;5;28;43mself\u001B[39;49m\u001B[38;5;241;43m.\u001B[39;49m\u001B[43merrors\u001B[49m\u001B[43m,\u001B[49m\u001B[43mdecoding_table\u001B[49m\u001B[43m)\u001B[49m[\u001B[38;5;241m0\u001B[39m]\n",
      "\u001B[1;31mUnicodeDecodeError\u001B[0m: 'charmap' codec can't decode byte 0x81 in position 3443: character maps to <undefined>"
     ]
    }
   ],
   "execution_count": 78
  },
  {
   "metadata": {
    "ExecuteTime": {
     "end_time": "2024-06-21T02:32:31.945355Z",
     "start_time": "2024-06-21T02:32:31.943353Z"
    }
   },
   "cell_type": "code",
   "source": "print(y[0]*P)",
   "id": "f6aab8a3ab78ed5a",
   "outputs": [
    {
     "name": "stdout",
     "output_type": "stream",
     "text": [
      "281.91266757481253\n"
     ]
    }
   ],
   "execution_count": 67
  },
  {
   "metadata": {
    "ExecuteTime": {
     "end_time": "2024-06-21T03:08:17.262818Z",
     "start_time": "2024-06-21T03:08:17.258815Z"
    }
   },
   "cell_type": "code",
   "source": [
    "R = 8.314 # J/mol-K\n",
    "T = 300\n",
    "P = .3*101325 # Pa\n",
    "B = -1.96/1000\n",
    "Cv = 67\n",
    "Cp = 77.3\n",
    "MW = .058\n",
    "V = R*T/P + B\n",
    "print(np.sqrt((V)**2*Cp*R*T/(MW*Cv*(V - B)**2)))"
   ],
   "id": "9038f62b89321e7e",
   "outputs": [
    {
     "name": "stdout",
     "output_type": "stream",
     "text": [
      "217.42228581608228\n"
     ]
    }
   ],
   "execution_count": 76
  }
 ],
 "metadata": {
  "kernelspec": {
   "display_name": "Python 3",
   "language": "python",
   "name": "python3"
  },
  "language_info": {
   "codemirror_mode": {
    "name": "ipython",
    "version": 2
   },
   "file_extension": ".py",
   "mimetype": "text/x-python",
   "name": "python",
   "nbconvert_exporter": "python",
   "pygments_lexer": "ipython2",
   "version": "2.7.6"
  }
 },
 "nbformat": 4,
 "nbformat_minor": 5
}
